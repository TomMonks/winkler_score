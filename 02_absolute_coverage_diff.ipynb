{
 "cells": [
  {
   "cell_type": "markdown",
   "metadata": {},
   "source": [
    "# Absolute Coverage Difference"
   ]
  },
  {
   "cell_type": "markdown",
   "metadata": {},
   "source": [
    "The absolute coverage difference is the absolute difference between average coverage and the target coverage level.\n",
    "\n",
    "For example if the average coverage is 93% and the target is a 95% coverage then the absolute coverage difference is\n",
    "\n",
    "$|0.93 - 0.95| = 0.02$"
   ]
  },
  {
   "cell_type": "markdown",
   "metadata": {},
   "source": [
    "## Imports"
   ]
  },
  {
   "cell_type": "code",
   "execution_count": 1,
   "metadata": {},
   "outputs": [],
   "source": [
    "import pandas as pd\n",
    "import numpy as np\n",
    "from forecast_tools.metrics import coverage\n",
    "from forecast_tools.baseline import SNaive, Naive1\n",
    "\n",
    "import warnings\n",
    "warnings.filterwarnings('ignore')"
   ]
  },
  {
   "cell_type": "markdown",
   "metadata": {},
   "source": [
    "## Helper functions"
   ]
  },
  {
   "cell_type": "code",
   "execution_count": 2,
   "metadata": {},
   "outputs": [],
   "source": [
    "def preds_as_series(data, preds):\n",
    "    '''\n",
    "    Helper function for plotting predictions.\n",
    "    Converts a numpy array of predictions to a \n",
    "    pandas.DataFrame with datetimeindex\n",
    "    \n",
    "    Parameters\n",
    "    -----\n",
    "    data - arraylike - the training data\n",
    "    preds - numpy.array, vector of predictions \n",
    "    \n",
    "    Returns:\n",
    "    -------\n",
    "    pandas.DataFrame\n",
    "    '''\n",
    "    start = pd.date_range(start=data.index.max(), periods=2, \n",
    "                          freq=data.index.freq).max()\n",
    "    idx = pd.date_range(start=start, periods=len(preds), freq=data.index.freq)\n",
    "    return pd.DataFrame(preds, index=idx)"
   ]
  },
  {
   "cell_type": "code",
   "execution_count": 3,
   "metadata": {},
   "outputs": [],
   "source": [
    "def plot_prediction_intervals(train, preds, intervals, \n",
    "                              test=None, figsize=(12,4)):\n",
    "    '''\n",
    "    Helper function to plot training data, point preds\n",
    "    and 2 sets of prediction intevals\n",
    "    \n",
    "    assume 2 sets of PIs are provided!\n",
    "    '''\n",
    "    ax = train.plot(figsize=figsize)\n",
    "\n",
    "    mean = preds_as_series(train, preds)\n",
    "    intervals_80 = preds_as_series(train, intervals[0])\n",
    "    intervals_90 = preds_as_series(train, intervals[1])\n",
    "\n",
    "    mean.plot(ax=ax, label='point forecast')\n",
    "\n",
    "    ax.fill_between(intervals_80.index, mean[0], intervals_80[1], \n",
    "                    alpha=0.2,\n",
    "                    label='80% PI', color='yellow');\n",
    "\n",
    "    ax.fill_between(intervals_80.index,mean[0], intervals_80[0], \n",
    "                    alpha=0.2,\n",
    "                    label='80% PI', color='yellow');\n",
    "\n",
    "    ax.fill_between(intervals_80.index,intervals_80[1], intervals_90[1], \n",
    "                    alpha=0.2,\n",
    "                    label='90% PI', color='purple');\n",
    "\n",
    "    ax.fill_between(intervals_80.index,intervals_80[0], intervals_90[0], \n",
    "                    alpha=0.2,\n",
    "                    label='90% PI', color='purple');\n",
    "    \n",
    "    if test is None:\n",
    "        ax.legend(['train', 'point forecast', '80%PI', '_ignore','_ignore', '90%PI'], loc=2)\n",
    "    else:\n",
    "        test.plot(ax=ax, color='black')\n",
    "        ax.legend(['train', 'point forecast', 'Test', '80%PI', '_ignore','_ignore', '90%PI'], loc=2)"
   ]
  },
  {
   "cell_type": "markdown",
   "metadata": {},
   "source": [
    "## Implementation"
   ]
  },
  {
   "cell_type": "code",
   "execution_count": 4,
   "metadata": {},
   "outputs": [],
   "source": [
    "def absolute_coverage_difference(y_true, pred_intervals, target=0.95):\n",
    "    mean_coverage = coverage(y_true, pred_intervals)\n",
    "    return abs(mean_coverage - target)"
   ]
  },
  {
   "cell_type": "markdown",
   "metadata": {},
   "source": [
    "# Example usage"
   ]
  },
  {
   "cell_type": "code",
   "execution_count": 5,
   "metadata": {},
   "outputs": [],
   "source": [
    "TARGET = 0.80\n",
    "URL = 'https://raw.githubusercontent.com/health-data-science-OR/' \\\n",
    "        + 'hpdm097-datasets/master/out_appoints_mth.csv'"
   ]
  },
  {
   "cell_type": "code",
   "execution_count": 6,
   "metadata": {},
   "outputs": [],
   "source": [
    "appoints = pd.read_csv(URL, index_col='date', parse_dates=True, dayfirst=True)\n",
    "appoints.index.freq = 'MS'"
   ]
  },
  {
   "cell_type": "code",
   "execution_count": 7,
   "metadata": {},
   "outputs": [],
   "source": [
    "train = appoints[:-6]\n",
    "test = appoints[-6:]"
   ]
  },
  {
   "cell_type": "code",
   "execution_count": 8,
   "metadata": {},
   "outputs": [],
   "source": [
    "model = SNaive(12)\n",
    "# returns 80 and 90% prediction intervals by default.\n",
    "preds, intervals = model.fit_predict(train, 6, return_predict_int=True)"
   ]
  },
  {
   "cell_type": "code",
   "execution_count": 9,
   "metadata": {},
   "outputs": [
    {
     "data": {
      "text/plain": [
       "array([[37520.96642201, 58225.03357799],\n",
       "       [29059.96642201, 49764.03357799],\n",
       "       [47325.96642201, 68030.03357799],\n",
       "       [36432.96642201, 57137.03357799],\n",
       "       [35865.96642201, 56570.03357799],\n",
       "       [33419.96642201, 54124.03357799]])"
      ]
     },
     "execution_count": 9,
     "metadata": {},
     "output_type": "execute_result"
    }
   ],
   "source": [
    "# 80% prediction intervals \n",
    "intervals[0]"
   ]
  },
  {
   "cell_type": "code",
   "execution_count": 10,
   "metadata": {},
   "outputs": [
    {
     "data": {
      "image/png": "[encoded data removed]",
      "text/plain": [
       "<Figure size 864x288 with 1 Axes>"
      ]
     },
     "metadata": {
      "needs_background": "light"
     },
     "output_type": "display_data"
    }
   ],
   "source": [
    "# take a look at the prediction intervals - 100% coverage at the 80% level!\n",
    "plot_prediction_intervals(train, preds, intervals, test)"
   ]
  },
  {
   "cell_type": "code",
   "execution_count": 11,
   "metadata": {},
   "outputs": [
    {
     "data": {
      "text/plain": [
       "0.19999999999999996"
      ]
     },
     "execution_count": 11,
     "metadata": {},
     "output_type": "execute_result"
    }
   ],
   "source": [
    "# absolute coverage difference is big!\n",
    "absolute_coverage_difference(test.to_numpy().T[0], intervals[0], target=TARGET)"
   ]
  },
  {
   "cell_type": "code",
   "execution_count": 12,
   "metadata": {},
   "outputs": [
    {
     "data": {
      "text/plain": [
       "1.0"
      ]
     },
     "execution_count": 12,
     "metadata": {},
     "output_type": "execute_result"
    }
   ],
   "source": [
    "# just for completeness - here is the coverage calculation.\n",
    "coverage(test.to_numpy().T[0], intervals[0])"
   ]
  }
 ],
 "metadata": {
  "kernelspec": {
   "display_name": "Python 3",
   "language": "python",
   "name": "python3"
  },
  "language_info": {
   "codemirror_mode": {
    "name": "ipython",
    "version": 3
   },
   "file_extension": ".py",
   "mimetype": "text/x-python",
   "name": "python",
   "nbconvert_exporter": "python",
   "pygments_lexer": "ipython3",
   "version": "3.7.7"
  }
 },
 "nbformat": 4,
 "nbformat_minor": 4
}
