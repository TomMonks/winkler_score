{
 "cells": [
  {
   "cell_type": "markdown",
   "metadata": {},
   "source": [
    "# Scaled Interval Score\n",
    "\n",
    "This is the average Winkler score divided by the one step insample Naive1 or SNaive"
   ]
  },
  {
   "cell_type": "markdown",
   "metadata": {},
   "source": [
    "## Imports"
   ]
  },
  {
   "cell_type": "code",
   "execution_count": 102,
   "metadata": {},
   "outputs": [],
   "source": [
    "import pandas as pd\n",
    "import numpy as np\n",
    "\n",
    "from forecast_tools.baseline import SNaive, Naive1\n",
    "from forecast_tools.metrics import mean_absolute_error\n",
    "from forecast_tools.datasets import load_emergency_dept\n",
    "\n",
    "import warnings\n",
    "warnings.filterwarnings('ignore')"
   ]
  },
  {
   "cell_type": "markdown",
   "metadata": {},
   "source": [
    "## Helper functions"
   ]
  },
  {
   "cell_type": "code",
   "execution_count": 46,
   "metadata": {},
   "outputs": [],
   "source": [
    "def preds_as_series(data, preds):\n",
    "    '''\n",
    "    Helper function for plotting predictions.\n",
    "    Converts a numpy array of predictions to a \n",
    "    pandas.DataFrame with datetimeindex\n",
    "    \n",
    "    Parameters\n",
    "    -----\n",
    "    data - arraylike - the training data\n",
    "    preds - numpy.array, vector of predictions \n",
    "    \n",
    "    Returns:\n",
    "    -------\n",
    "    pandas.DataFrame\n",
    "    '''\n",
    "    start = pd.date_range(start=data.index.max(), periods=2, \n",
    "                          freq=data.index.freq).max()\n",
    "    idx = pd.date_range(start=start, periods=len(preds), freq=data.index.freq)\n",
    "    return pd.DataFrame(preds, index=idx)"
   ]
  },
  {
   "cell_type": "code",
   "execution_count": 89,
   "metadata": {},
   "outputs": [],
   "source": [
    "def plot_prediction_intervals(train, preds, intervals, \n",
    "                              test=None, show_train_size=None, figsize=(12,4)):\n",
    "    '''\n",
    "    Helper function to plot training data, point preds\n",
    "    and 2 sets of prediction intevals\n",
    "    \n",
    "    assume 2 sets of PIs are provided!\n",
    "    '''\n",
    "    \n",
    "    if show_train_size is None:\n",
    "        show_train_size = len(train)\n",
    "        \n",
    "    train = train[-show_train_size:]\n",
    "    ax = train.plot(figsize=figsize)\n",
    "    \n",
    "\n",
    "    mean = preds_as_series(train, preds)\n",
    "    intervals_80 = preds_as_series(train, intervals[0])\n",
    "    intervals_90 = preds_as_series(train, intervals[1])\n",
    "\n",
    "    mean.plot(ax=ax, label='point forecast')\n",
    "\n",
    "    ax.fill_between(intervals_80.index, mean[0], intervals_80[1], \n",
    "                    alpha=0.2,\n",
    "                    label='80% PI', color='yellow');\n",
    "\n",
    "    ax.fill_between(intervals_80.index,mean[0], intervals_80[0], \n",
    "                    alpha=0.2,\n",
    "                    label='80% PI', color='yellow');\n",
    "\n",
    "    ax.fill_between(intervals_80.index,intervals_80[1], intervals_90[1], \n",
    "                    alpha=0.2,\n",
    "                    label='90% PI', color='purple');\n",
    "\n",
    "    ax.fill_between(intervals_80.index,intervals_80[0], intervals_90[0], \n",
    "                    alpha=0.2,\n",
    "                    label='90% PI', color='purple');\n",
    "    \n",
    "    if test is None:\n",
    "        ax.legend(['train', 'point forecast', '80%PI', '_ignore','_ignore', '90%PI'], loc=2)\n",
    "    else:\n",
    "        test.plot(ax=ax, color='black', marker='o', ls='')\n",
    "        ax.legend(['train', 'point forecast', 'Test', '80%PI', \n",
    "                   '_ignore','_ignore', '90%PI'], loc=2, ncol=5)"
   ]
  },
  {
   "cell_type": "markdown",
   "metadata": {},
   "source": [
    "## Individual and mean interval score"
   ]
  },
  {
   "cell_type": "code",
   "execution_count": 157,
   "metadata": {},
   "outputs": [],
   "source": [
    "def winkler_score(l_interval, u_interval, y_t, alpha):\n",
    "    '''\n",
    "    Calculates the Winkler score for an observation in \n",
    "    an prediction interval.\n",
    "    \n",
    "    Winkler scores penalise intervals that do not capture the \n",
    "    observation proportional to 2/alpha\n",
    "\n",
    "    Params:\n",
    "    -------\n",
    "    l_interval: float\n",
    "        Lower prediction interval\n",
    "        \n",
    "    u_interval: float\n",
    "        Upper prediction interval\n",
    "        \n",
    "    y_t: float\n",
    "        Observed ground truth value\n",
    "        \n",
    "    alpha: float\n",
    "        The prediction interval alpha.  For an 80% pred intervals alpha=0.2\n",
    "        \n",
    "    Returns:\n",
    "    -------\n",
    "    float\n",
    "    \n",
    "    Example usage:\n",
    "    --------------\n",
    "    ```python\n",
    "    >>> alpha = 0.2\n",
    "    >>> interval = [744.54, 773.22]\n",
    "    >>> y_t = 741.84\n",
    "    >>> ws = winkler_score(interval, y_t, alpha)\n",
    "    >>> print(round(ws, 2))\n",
    "    \n",
    "    56.68\n",
    "    ```\n",
    "    '''\n",
    "    score = u_interval - l_interval\n",
    "    if y_t < l_interval:\n",
    "        score += ((2/alpha) * (l_interval - y_t))\n",
    "    elif y_t > u_interval:\n",
    "        score += ((2/alpha) * (y_t - u_interval))\n",
    "        \n",
    "    return score"
   ]
  },
  {
   "cell_type": "code",
   "execution_count": 158,
   "metadata": {},
   "outputs": [],
   "source": [
    "def mean_winkler_score(intervals, observations, alpha):\n",
    "    '''\n",
    "    Returns the mean winkler score across a set of \n",
    "    intervals and also a numpy.ndarray of individual winkler scores\n",
    "    \n",
    "    Params:\n",
    "    -------\n",
    "    intervals: array-like\n",
    "        array of prediction intervals\n",
    "        \n",
    "    observations: array-like\n",
    "        array of ground truth observations\n",
    "        \n",
    "    alpha: float\n",
    "        The prediction interval alpha.  For an 80% pred intervals alpha=0.2\n",
    "        \n",
    "    Returns:\n",
    "    -------\n",
    "    float, numpy.ndarray\n",
    "    \n",
    "    '''\n",
    "    observations = np.array(observations)\n",
    "    scores = [winkler_score(l[0], l[1], y_t, alpha) for l, y_t in zip(intervals, observations)]\n",
    "    scores = np.array(scores)\n",
    "    print(scores)\n",
    "    return scores.mean()"
   ]
  },
  {
   "cell_type": "markdown",
   "metadata": {},
   "source": [
    "## Scaled interval score implementation"
   ]
  },
  {
   "cell_type": "code",
   "execution_count": 139,
   "metadata": {},
   "outputs": [],
   "source": [
    "def scaled_interval_score(y_true, intervals, y_train, alpha, period=None):\n",
    "    y_true, y_train = np.array(y_true), np.array(y_train)\n",
    "    \n",
    "    if period is None:\n",
    "        period = 1\n",
    "        \n",
    "    in_sample_model = SNaive(period=period)\n",
    "    in_sample_model.fit(y_train)\n",
    "\n",
    "    mae_insample = mean_absolute_error(y_train[period:],\n",
    "                                       in_sample_model.fittedvalues.dropna())\n",
    "    \n",
    "    return mean_winkler_score(intervals, y_true, alpha) / mae_insample"
   ]
  },
  {
   "cell_type": "markdown",
   "metadata": {},
   "source": [
    "## Example with outpatient dataset"
   ]
  },
  {
   "cell_type": "code",
   "execution_count": 151,
   "metadata": {},
   "outputs": [],
   "source": [
    "TARGET = 0.80\n",
    "HOLDOUT = 6\n",
    "URL = 'https://raw.githubusercontent.com/health-data-science-OR/' \\\n",
    "        + 'hpdm097-datasets/master/out_appoints_mth.csv'\n",
    "\n",
    "appoints = pd.read_csv(URL, index_col='date', parse_dates=True, dayfirst=True)\n",
    "appoints.index.freq = 'MS'\n",
    "\n",
    "# train-test split\n",
    "train = appoints[:-HOLDOUT]\n",
    "test_out = appoints[-HOLDOUT:]\n",
    "\n",
    "model = Naive1()\n",
    "\n",
    "# returns 80 and 90% prediction intervals by default.\n",
    "model.fit(train)\n",
    "preds, intervals_out = model.predict(6, return_predict_int=True)"
   ]
  },
  {
   "cell_type": "code",
   "execution_count": 155,
   "metadata": {},
   "outputs": [
    {
     "name": "stdout",
     "output_type": "stream",
     "text": [
      "[25771.07314115 36445.80115312 44636.80804604 51542.1462823\n",
      " 57625.87139673 63125.97931976]\n",
      "6.51227581009931\n"
     ]
    }
   ],
   "source": [
    "msis = scaled_interval_score(test_out, intervals_out[0], train, alpha=1-TARGET, period=12)\n",
    "print(msis)"
   ]
  },
  {
   "cell_type": "markdown",
   "metadata": {},
   "source": [
    "## Example with `forecast_tools` ED dataset"
   ]
  },
  {
   "cell_type": "code",
   "execution_count": 156,
   "metadata": {},
   "outputs": [
    {
     "name": "stdout",
     "output_type": "stream",
     "text": [
      "[58.61002824962492 58.61002824962492 58.610028249624946 58.610028249624946\n",
      " 58.610028249624946 58.61002824962492 58.61002824962492 82.88709684168981\n",
      " array([208.45161263]) 82.88709684168984 82.88709684168984\n",
      " 82.88709684168984 82.88709684168981 82.88709684168981]\n",
      "Mean scaled interval score: [2.85616841]\n"
     ]
    }
   ],
   "source": [
    "TARGET = 0.80\n",
    "HOLDOUT = 14\n",
    "PERIOD = 7\n",
    "\n",
    "attends = load_emergency_dept()\n",
    "\n",
    "# train-test split\n",
    "train = attends[:-HOLDOUT]\n",
    "test_ed = attends[-HOLDOUT:]\n",
    "\n",
    "# print(train.head())\n",
    "\n",
    "model = SNaive(PERIOD)\n",
    "\n",
    "# returns 80 and 90% prediction intervals by default.\n",
    "preds, intervals_ed = model.fit_predict(train, HOLDOUT, return_predict_int=True)\n",
    "\n",
    "msis = scaled_interval_score(test_ed, intervals_ed[0], train, alpha=1-TARGET, period=PERIOD)\n",
    "print(f'Mean scaled interval score: {msis}')"
   ]
  },
  {
   "cell_type": "code",
   "execution_count": 143,
   "metadata": {},
   "outputs": [
    {
     "data": {
      "image/png": "[encoded data removed]",
      "text/plain": [
       "<Figure size 864x288 with 1 Axes>"
      ]
     },
     "metadata": {
      "needs_background": "light"
     },
     "output_type": "display_data"
    }
   ],
   "source": [
    "plot_prediction_intervals(train, preds, intervals_ed, test=test_ed, show_train_size=14)"
   ]
  },
  {
   "cell_type": "code",
   "execution_count": 144,
   "metadata": {},
   "outputs": [
    {
     "data": {
      "text/html": [
       "<div>\n",
       "<style scoped>\n",
       "    .dataframe tbody tr th:only-of-type {\n",
       "        vertical-align: middle;\n",
       "    }\n",
       "\n",
       "    .dataframe tbody tr th {\n",
       "        vertical-align: top;\n",
       "    }\n",
       "\n",
       "    .dataframe thead th {\n",
       "        text-align: right;\n",
       "    }\n",
       "</style>\n",
       "<table border=\"1\" class=\"dataframe\">\n",
       "  <thead>\n",
       "    <tr style=\"text-align: right;\">\n",
       "      <th></th>\n",
       "      <th>out_apts</th>\n",
       "    </tr>\n",
       "    <tr>\n",
       "      <th>date</th>\n",
       "      <th></th>\n",
       "    </tr>\n",
       "  </thead>\n",
       "  <tbody>\n",
       "    <tr>\n",
       "      <th>2014-04-01</th>\n",
       "      <td>40921</td>\n",
       "    </tr>\n",
       "    <tr>\n",
       "      <th>2014-05-01</th>\n",
       "      <td>42205</td>\n",
       "    </tr>\n",
       "    <tr>\n",
       "      <th>2014-06-01</th>\n",
       "      <td>58850</td>\n",
       "    </tr>\n",
       "    <tr>\n",
       "      <th>2014-07-01</th>\n",
       "      <td>45174</td>\n",
       "    </tr>\n",
       "    <tr>\n",
       "      <th>2014-08-01</th>\n",
       "      <td>41427</td>\n",
       "    </tr>\n",
       "  </tbody>\n",
       "</table>\n",
       "</div>"
      ],
      "text/plain": [
       "            out_apts\n",
       "date                \n",
       "2014-04-01     40921\n",
       "2014-05-01     42205\n",
       "2014-06-01     58850\n",
       "2014-07-01     45174\n",
       "2014-08-01     41427"
      ]
     },
     "execution_count": 144,
     "metadata": {},
     "output_type": "execute_result"
    }
   ],
   "source": [
    "appoints.head()"
   ]
  },
  {
   "cell_type": "code",
   "execution_count": 145,
   "metadata": {},
   "outputs": [
    {
     "data": {
      "text/html": [
       "<div>\n",
       "<style scoped>\n",
       "    .dataframe tbody tr th:only-of-type {\n",
       "        vertical-align: middle;\n",
       "    }\n",
       "\n",
       "    .dataframe tbody tr th {\n",
       "        vertical-align: top;\n",
       "    }\n",
       "\n",
       "    .dataframe thead th {\n",
       "        text-align: right;\n",
       "    }\n",
       "</style>\n",
       "<table border=\"1\" class=\"dataframe\">\n",
       "  <thead>\n",
       "    <tr style=\"text-align: right;\">\n",
       "      <th></th>\n",
       "      <th>arrivals</th>\n",
       "    </tr>\n",
       "    <tr>\n",
       "      <th>date</th>\n",
       "      <th></th>\n",
       "    </tr>\n",
       "  </thead>\n",
       "  <tbody>\n",
       "    <tr>\n",
       "      <th>2017-01-22</th>\n",
       "      <td>170</td>\n",
       "    </tr>\n",
       "    <tr>\n",
       "      <th>2017-01-23</th>\n",
       "      <td>196</td>\n",
       "    </tr>\n",
       "    <tr>\n",
       "      <th>2017-01-24</th>\n",
       "      <td>186</td>\n",
       "    </tr>\n",
       "    <tr>\n",
       "      <th>2017-01-25</th>\n",
       "      <td>200</td>\n",
       "    </tr>\n",
       "    <tr>\n",
       "      <th>2017-01-26</th>\n",
       "      <td>228</td>\n",
       "    </tr>\n",
       "  </tbody>\n",
       "</table>\n",
       "</div>"
      ],
      "text/plain": [
       "            arrivals\n",
       "date                \n",
       "2017-01-22       170\n",
       "2017-01-23       196\n",
       "2017-01-24       186\n",
       "2017-01-25       200\n",
       "2017-01-26       228"
      ]
     },
     "execution_count": 145,
     "metadata": {},
     "output_type": "execute_result"
    }
   ],
   "source": [
    "attends.head()"
   ]
  },
  {
   "cell_type": "code",
   "execution_count": 146,
   "metadata": {},
   "outputs": [
    {
     "data": {
      "text/plain": [
       "(14, 2)"
      ]
     },
     "execution_count": 146,
     "metadata": {},
     "output_type": "execute_result"
    }
   ],
   "source": [
    "intervals_ed[0].shape"
   ]
  },
  {
   "cell_type": "code",
   "execution_count": 147,
   "metadata": {},
   "outputs": [
    {
     "data": {
      "text/plain": [
       "(6, 2)"
      ]
     },
     "execution_count": 147,
     "metadata": {},
     "output_type": "execute_result"
    }
   ],
   "source": [
    "intervals_out[0].shape"
   ]
  },
  {
   "cell_type": "code",
   "execution_count": 148,
   "metadata": {},
   "outputs": [
    {
     "data": {
      "text/html": [
       "<div>\n",
       "<style scoped>\n",
       "    .dataframe tbody tr th:only-of-type {\n",
       "        vertical-align: middle;\n",
       "    }\n",
       "\n",
       "    .dataframe tbody tr th {\n",
       "        vertical-align: top;\n",
       "    }\n",
       "\n",
       "    .dataframe thead th {\n",
       "        text-align: right;\n",
       "    }\n",
       "</style>\n",
       "<table border=\"1\" class=\"dataframe\">\n",
       "  <thead>\n",
       "    <tr style=\"text-align: right;\">\n",
       "      <th></th>\n",
       "      <th>out_apts</th>\n",
       "    </tr>\n",
       "    <tr>\n",
       "      <th>date</th>\n",
       "      <th></th>\n",
       "    </tr>\n",
       "  </thead>\n",
       "  <tbody>\n",
       "    <tr>\n",
       "      <th>2017-11-01</th>\n",
       "      <td>47563</td>\n",
       "    </tr>\n",
       "    <tr>\n",
       "      <th>2017-12-01</th>\n",
       "      <td>40828</td>\n",
       "    </tr>\n",
       "    <tr>\n",
       "      <th>2018-01-01</th>\n",
       "      <td>56148</td>\n",
       "    </tr>\n",
       "    <tr>\n",
       "      <th>2018-02-01</th>\n",
       "      <td>45342</td>\n",
       "    </tr>\n",
       "    <tr>\n",
       "      <th>2018-03-01</th>\n",
       "      <td>43741</td>\n",
       "    </tr>\n",
       "    <tr>\n",
       "      <th>2018-04-01</th>\n",
       "      <td>45907</td>\n",
       "    </tr>\n",
       "  </tbody>\n",
       "</table>\n",
       "</div>"
      ],
      "text/plain": [
       "            out_apts\n",
       "date                \n",
       "2017-11-01     47563\n",
       "2017-12-01     40828\n",
       "2018-01-01     56148\n",
       "2018-02-01     45342\n",
       "2018-03-01     43741\n",
       "2018-04-01     45907"
      ]
     },
     "execution_count": 148,
     "metadata": {},
     "output_type": "execute_result"
    }
   ],
   "source": [
    "test_out"
   ]
  },
  {
   "cell_type": "code",
   "execution_count": 134,
   "metadata": {},
   "outputs": [
    {
     "data": {
      "text/html": [
       "<div>\n",
       "<style scoped>\n",
       "    .dataframe tbody tr th:only-of-type {\n",
       "        vertical-align: middle;\n",
       "    }\n",
       "\n",
       "    .dataframe tbody tr th {\n",
       "        vertical-align: top;\n",
       "    }\n",
       "\n",
       "    .dataframe thead th {\n",
       "        text-align: right;\n",
       "    }\n",
       "</style>\n",
       "<table border=\"1\" class=\"dataframe\">\n",
       "  <thead>\n",
       "    <tr style=\"text-align: right;\">\n",
       "      <th></th>\n",
       "      <th>arrivals</th>\n",
       "    </tr>\n",
       "    <tr>\n",
       "      <th>date</th>\n",
       "      <th></th>\n",
       "    </tr>\n",
       "  </thead>\n",
       "  <tbody>\n",
       "    <tr>\n",
       "      <th>2017-12-18</th>\n",
       "      <td>195</td>\n",
       "    </tr>\n",
       "    <tr>\n",
       "      <th>2017-12-19</th>\n",
       "      <td>204</td>\n",
       "    </tr>\n",
       "    <tr>\n",
       "      <th>2017-12-20</th>\n",
       "      <td>216</td>\n",
       "    </tr>\n",
       "    <tr>\n",
       "      <th>2017-12-21</th>\n",
       "      <td>248</td>\n",
       "    </tr>\n",
       "    <tr>\n",
       "      <th>2017-12-22</th>\n",
       "      <td>240</td>\n",
       "    </tr>\n",
       "    <tr>\n",
       "      <th>2017-12-23</th>\n",
       "      <td>202</td>\n",
       "    </tr>\n",
       "    <tr>\n",
       "      <th>2017-12-24</th>\n",
       "      <td>194</td>\n",
       "    </tr>\n",
       "    <tr>\n",
       "      <th>2017-12-25</th>\n",
       "      <td>179</td>\n",
       "    </tr>\n",
       "    <tr>\n",
       "      <th>2017-12-26</th>\n",
       "      <td>255</td>\n",
       "    </tr>\n",
       "    <tr>\n",
       "      <th>2017-12-27</th>\n",
       "      <td>274</td>\n",
       "    </tr>\n",
       "    <tr>\n",
       "      <th>2017-12-28</th>\n",
       "      <td>235</td>\n",
       "    </tr>\n",
       "    <tr>\n",
       "      <th>2017-12-29</th>\n",
       "      <td>245</td>\n",
       "    </tr>\n",
       "    <tr>\n",
       "      <th>2017-12-30</th>\n",
       "      <td>228</td>\n",
       "    </tr>\n",
       "    <tr>\n",
       "      <th>2017-12-31</th>\n",
       "      <td>184</td>\n",
       "    </tr>\n",
       "  </tbody>\n",
       "</table>\n",
       "</div>"
      ],
      "text/plain": [
       "            arrivals\n",
       "date                \n",
       "2017-12-18       195\n",
       "2017-12-19       204\n",
       "2017-12-20       216\n",
       "2017-12-21       248\n",
       "2017-12-22       240\n",
       "2017-12-23       202\n",
       "2017-12-24       194\n",
       "2017-12-25       179\n",
       "2017-12-26       255\n",
       "2017-12-27       274\n",
       "2017-12-28       235\n",
       "2017-12-29       245\n",
       "2017-12-30       228\n",
       "2017-12-31       184"
      ]
     },
     "execution_count": 134,
     "metadata": {},
     "output_type": "execute_result"
    }
   ],
   "source": [
    "test_ed"
   ]
  },
  {
   "cell_type": "code",
   "execution_count": null,
   "metadata": {},
   "outputs": [],
   "source": []
  }
 ],
 "metadata": {
  "kernelspec": {
   "display_name": "Python 3",
   "language": "python",
   "name": "python3"
  },
  "language_info": {
   "codemirror_mode": {
    "name": "ipython",
    "version": 3
   },
   "file_extension": ".py",
   "mimetype": "text/x-python",
   "name": "python",
   "nbconvert_exporter": "python",
   "pygments_lexer": "ipython3",
   "version": "3.7.7"
  }
 },
 "nbformat": 4,
 "nbformat_minor": 4
}
