{
 "cells": [
  {
   "cell_type": "markdown",
   "id": "7b86c615-9548-48ca-8775-642b17a42404",
   "metadata": {},
   "source": [
    "## Quantile score"
   ]
  },
  {
   "cell_type": "code",
   "execution_count": 73,
   "id": "8e636c78-0451-46ce-8f26-02830864573d",
   "metadata": {},
   "outputs": [],
   "source": [
    "import numpy as np\n",
    "import pandas as pd\n",
    "\n",
    "from forecast_tools.baseline import Naive1\n",
    "\n",
    "from typing import Union, Optional"
   ]
  },
  {
   "cell_type": "code",
   "execution_count": 123,
   "id": "d960980c-9a22-4c6a-aee6-9de7457dad43",
   "metadata": {},
   "outputs": [],
   "source": [
    "def quantile_score(predicted_quantile: float,\n",
    "                   actual: float,\n",
    "                   prob: float) -> float:\n",
    "    \"\"\"\n",
    "    Calculate Quantile Score for a single prediction interval.\n",
    "    \n",
    "    Parameters:\n",
    "    predicted_quantile : float\n",
    "        The predicted quantile value (e.g., 0.05, 0.5, etc.).\n",
    "    actual : float\n",
    "        The observed (actual) value.\n",
    "    prob : float\n",
    "        The probability associated with the predicted quantile (e.g., 0.05, 0.25, etc.).\n",
    "    \n",
    "    Returns:\n",
    "    Quantile score for the given prediction interval.\n",
    "    \"\"\"\n",
    "    if actual < predicted_quantile:\n",
    "        loss = (1 - prob) * abs(predicted_quantile - actual)\n",
    "    else:\n",
    "        loss = prob * abs(predicted_quantile - actual)\n",
    "    \n",
    "    return 2 * loss\n"
   ]
  },
  {
   "cell_type": "code",
   "execution_count": 108,
   "id": "46e8f0de-8fb4-493a-b681-9c710ec4bc2a",
   "metadata": {},
   "outputs": [
    {
     "data": {
      "text/html": [
       "<div>\n",
       "<style scoped>\n",
       "    .dataframe tbody tr th:only-of-type {\n",
       "        vertical-align: middle;\n",
       "    }\n",
       "\n",
       "    .dataframe tbody tr th {\n",
       "        vertical-align: top;\n",
       "    }\n",
       "\n",
       "    .dataframe thead th {\n",
       "        text-align: right;\n",
       "    }\n",
       "</style>\n",
       "<table border=\"1\" class=\"dataframe\">\n",
       "  <thead>\n",
       "    <tr style=\"text-align: right;\">\n",
       "      <th></th>\n",
       "      <th>Unnamed: 0</th>\n",
       "      <th>Symbol</th>\n",
       "      <th>Open</th>\n",
       "      <th>High</th>\n",
       "      <th>Low</th>\n",
       "      <th>Close</th>\n",
       "      <th>Adj_Close</th>\n",
       "      <th>Volume</th>\n",
       "      <th>day</th>\n",
       "    </tr>\n",
       "    <tr>\n",
       "      <th>Date</th>\n",
       "      <th></th>\n",
       "      <th></th>\n",
       "      <th></th>\n",
       "      <th></th>\n",
       "      <th></th>\n",
       "      <th></th>\n",
       "      <th></th>\n",
       "      <th></th>\n",
       "      <th></th>\n",
       "    </tr>\n",
       "  </thead>\n",
       "  <tbody>\n",
       "    <tr>\n",
       "      <th>2018-12-24</th>\n",
       "      <td>1002</td>\n",
       "      <td>GOOG</td>\n",
       "      <td>973.900024</td>\n",
       "      <td>1003.539978</td>\n",
       "      <td>970.109985</td>\n",
       "      <td>976.219971</td>\n",
       "      <td>976.219971</td>\n",
       "      <td>1590300</td>\n",
       "      <td>1002</td>\n",
       "    </tr>\n",
       "    <tr>\n",
       "      <th>2018-12-26</th>\n",
       "      <td>1003</td>\n",
       "      <td>GOOG</td>\n",
       "      <td>989.010010</td>\n",
       "      <td>1040.000000</td>\n",
       "      <td>983.000000</td>\n",
       "      <td>1039.459961</td>\n",
       "      <td>1039.459961</td>\n",
       "      <td>2373300</td>\n",
       "      <td>1003</td>\n",
       "    </tr>\n",
       "    <tr>\n",
       "      <th>2018-12-27</th>\n",
       "      <td>1004</td>\n",
       "      <td>GOOG</td>\n",
       "      <td>1017.150024</td>\n",
       "      <td>1043.890015</td>\n",
       "      <td>997.000000</td>\n",
       "      <td>1043.880005</td>\n",
       "      <td>1043.880005</td>\n",
       "      <td>2109800</td>\n",
       "      <td>1004</td>\n",
       "    </tr>\n",
       "    <tr>\n",
       "      <th>2018-12-28</th>\n",
       "      <td>1005</td>\n",
       "      <td>GOOG</td>\n",
       "      <td>1049.619995</td>\n",
       "      <td>1055.560059</td>\n",
       "      <td>1033.099976</td>\n",
       "      <td>1037.079956</td>\n",
       "      <td>1037.079956</td>\n",
       "      <td>1414800</td>\n",
       "      <td>1005</td>\n",
       "    </tr>\n",
       "    <tr>\n",
       "      <th>2018-12-31</th>\n",
       "      <td>1006</td>\n",
       "      <td>GOOG</td>\n",
       "      <td>1050.959961</td>\n",
       "      <td>1052.699951</td>\n",
       "      <td>1023.590027</td>\n",
       "      <td>1035.609985</td>\n",
       "      <td>1035.609985</td>\n",
       "      <td>1493300</td>\n",
       "      <td>1006</td>\n",
       "    </tr>\n",
       "  </tbody>\n",
       "</table>\n",
       "</div>"
      ],
      "text/plain": [
       "            Unnamed: 0 Symbol         Open         High          Low  \\\n",
       "Date                                                                   \n",
       "2018-12-24        1002   GOOG   973.900024  1003.539978   970.109985   \n",
       "2018-12-26        1003   GOOG   989.010010  1040.000000   983.000000   \n",
       "2018-12-27        1004   GOOG  1017.150024  1043.890015   997.000000   \n",
       "2018-12-28        1005   GOOG  1049.619995  1055.560059  1033.099976   \n",
       "2018-12-31        1006   GOOG  1050.959961  1052.699951  1023.590027   \n",
       "\n",
       "                  Close    Adj_Close   Volume   day  \n",
       "Date                                                 \n",
       "2018-12-24   976.219971   976.219971  1590300  1002  \n",
       "2018-12-26  1039.459961  1039.459961  2373300  1003  \n",
       "2018-12-27  1043.880005  1043.880005  2109800  1004  \n",
       "2018-12-28  1037.079956  1037.079956  1414800  1005  \n",
       "2018-12-31  1035.609985  1035.609985  1493300  1006  "
      ]
     },
     "execution_count": 108,
     "metadata": {},
     "output_type": "execute_result"
    }
   ],
   "source": [
    "google_stock = pd.read_csv(\"./data/google_stock.csv\", index_col=\"Date\", parse_dates=True)\n",
    "google_stock.tail()"
   ]
  },
  {
   "cell_type": "code",
   "execution_count": 109,
   "id": "081607af-83c8-4324-b79b-4c40ad52b9ec",
   "metadata": {},
   "outputs": [
    {
     "data": {
      "text/plain": [
       "Date\n",
       "2015-12-28    762.510010\n",
       "2015-12-29    776.599976\n",
       "2015-12-30    771.000000\n",
       "2015-12-31    758.880005\n",
       "2016-01-04    741.840027\n",
       "Name: Close, dtype: float64"
      ]
     },
     "execution_count": 109,
     "metadata": {},
     "output_type": "execute_result"
    }
   ],
   "source": [
    "train = google_stock[:\"2016-01-04\"][\"Close\"]\n",
    "train.tail()"
   ]
  },
  {
   "cell_type": "code",
   "execution_count": 155,
   "id": "cef5f3e1-6681-45fb-8578-c1d8fa3b46cc",
   "metadata": {},
   "outputs": [
    {
     "data": {
      "text/plain": [
       "array([741.840027, 742.580017, 743.619995, 726.390015, 714.469971])"
      ]
     },
     "execution_count": 155,
     "metadata": {},
     "output_type": "execute_result"
    }
   ],
   "source": [
    "train = google_stock[:\"2015-12-31\"][\"Close\"].to_numpy()\n",
    "test = google_stock[\"2016-01-04\":][\"Close\"].to_numpy()[:5]\n",
    "test"
   ]
  },
  {
   "cell_type": "code",
   "execution_count": 157,
   "id": "af078a21-5575-4c35-b8f4-11dbdb0e42d8",
   "metadata": {},
   "outputs": [
    {
     "data": {
      "text/plain": [
       "(array([758.880005, 758.880005, 758.880005, 758.880005, 758.880005]),\n",
       " [array([[744.53997703, 773.22003297],\n",
       "         [738.60014296, 779.15986704],\n",
       "         [734.04234797, 783.71766203],\n",
       "         [730.19994905, 787.56006095],\n",
       "         [726.81472765, 790.94528235]])])"
      ]
     },
     "execution_count": 157,
     "metadata": {},
     "output_type": "execute_result"
    }
   ],
   "source": [
    "nf1 = Naive1()\n",
    "nf1.fit(train)\n",
    "pred, interval = nf1.predict(horizon=len(test), return_predict_int=True, alpha=[0.2])\n",
    "pred, interval\n"
   ]
  },
  {
   "cell_type": "code",
   "execution_count": 158,
   "id": "95be801d-e398-4ecf-9267-16054e1dc692",
   "metadata": {},
   "outputs": [
    {
     "data": {
      "text/plain": [
       "4.859910048669781"
      ]
     },
     "execution_count": 158,
     "metadata": {},
     "output_type": "execute_result"
    }
   ],
   "source": [
    "q1 = quantile_score(interval[0][0][0], test[0], prob=0.1)\n",
    "q1"
   ]
  },
  {
   "cell_type": "code",
   "execution_count": 159,
   "id": "55f704f6-ad7a-48ea-bda5-3861d47f380c",
   "metadata": {},
   "outputs": [
    {
     "data": {
      "text/plain": [
       "6.2760011945922525"
      ]
     },
     "execution_count": 159,
     "metadata": {},
     "output_type": "execute_result"
    }
   ],
   "source": [
    "q2 = quantile_score(interval[0][0][1], test[0], prob=0.9)\n",
    "q2"
   ]
  },
  {
   "cell_type": "code",
   "execution_count": 160,
   "id": "f829e394-20f5-4b85-9029-e41658937260",
   "metadata": {},
   "outputs": [
    {
     "data": {
      "text/plain": [
       "55.68"
      ]
     },
     "execution_count": 160,
     "metadata": {},
     "output_type": "execute_result"
    }
   ],
   "source": [
    "round((q1 + q2) / 0.2, 2)"
   ]
  },
  {
   "cell_type": "code",
   "execution_count": 184,
   "id": "2bb6c95a-4f1a-4dbe-8447-6bbb277f954e",
   "metadata": {},
   "outputs": [],
   "source": [
    "def quantile_scores(predicted_quantiles: float,\n",
    "                    actuals: float,\n",
    "                    prob: float) -> float:\n",
    "    \"\"\"\n",
    "    Calculate Quantile Score for a single prediction interval.\n",
    "    \n",
    "    Parameters:\n",
    "    predicted_quantile : float\n",
    "        The predicted quantile value (e.g., 0.05, 0.5, etc.).\n",
    "    actual : float\n",
    "        The observed (actual) value.\n",
    "    prob : float\n",
    "        The probability associated with the predicted quantile (e.g., 0.05, 0.25, etc.).\n",
    "    \n",
    "    Returns:\n",
    "    Quantile score for the given prediction interval.\n",
    "    \"\"\"\n",
    "\n",
    "    if isinstance(predicted_quantiles, float):\n",
    "        predicted_quantiles = np.array([predicted_quantiles])\n",
    "        actuals = np.array([actuals])\n",
    "    else:\n",
    "        predicted_quantiles = np.asarray(predicted_quantiles)\n",
    "        actuals = np.asarray(actuals)\n",
    "        \n",
    "    scores = [quantile_score(q, a, prob) for q, a, in zip(predicted_quantiles, actuals)]\n",
    "    return np.array(scores)\n"
   ]
  },
  {
   "cell_type": "code",
   "execution_count": 185,
   "id": "28145e22-c5f0-4f62-afd7-caccfd421d0b",
   "metadata": {},
   "outputs": [
    {
     "data": {
      "text/plain": [
       "array([744.53997703, 738.60014296, 734.04234797, 730.19994905,\n",
       "       726.81472765])"
      ]
     },
     "execution_count": 185,
     "metadata": {},
     "output_type": "execute_result"
    }
   ],
   "source": [
    "interval[0][:,0]"
   ]
  },
  {
   "cell_type": "code",
   "execution_count": 192,
   "id": "4a1d7f7d-b395-42fe-bb3d-081d30e03384",
   "metadata": {},
   "outputs": [
    {
     "data": {
      "text/plain": [
       "array([ 4.85991005,  0.79597481,  1.91552941,  6.8578813 , 22.22056198])"
      ]
     },
     "execution_count": 192,
     "metadata": {},
     "output_type": "execute_result"
    }
   ],
   "source": [
    "q_lower = quantile_scores(interval[0][:,0], test, prob=0.1)\n",
    "q_lower"
   ]
  },
  {
   "cell_type": "code",
   "execution_count": 193,
   "id": "349dc5c1-82f1-41cc-8fa8-28b351ba5747",
   "metadata": {},
   "outputs": [
    {
     "data": {
      "text/plain": [
       "array([ 6.27600119,  7.31597001,  8.01953341, 12.23400919, 15.29506227])"
      ]
     },
     "execution_count": 193,
     "metadata": {},
     "output_type": "execute_result"
    }
   ],
   "source": [
    "q_upper = quantile_scores(interval[0][:,1], test, prob=0.9)\n",
    "q_upper"
   ]
  },
  {
   "cell_type": "code",
   "execution_count": 195,
   "id": "18bf0a42-bef2-4d47-875a-ee2c59f88a47",
   "metadata": {},
   "outputs": [],
   "source": [
    "from forecast_tools.metrics import winkler_score"
   ]
  },
  {
   "cell_type": "code",
   "execution_count": 198,
   "id": "54a285c7-c6bd-4540-ba17-ae980bc6c8a6",
   "metadata": {},
   "outputs": [
    {
     "data": {
      "text/plain": [
       "array([[744.53997703, 773.22003297],\n",
       "       [738.60014296, 779.15986704],\n",
       "       [734.04234797, 783.71766203],\n",
       "       [730.19994905, 787.56006095],\n",
       "       [726.81472765, 790.94528235]])"
      ]
     },
     "execution_count": 198,
     "metadata": {},
     "output_type": "execute_result"
    }
   ],
   "source": [
    "interval[0]"
   ]
  },
  {
   "cell_type": "code",
   "execution_count": 205,
   "id": "c3e09075-fa56-41eb-8375-8dab9aea2f0d",
   "metadata": {},
   "outputs": [
    {
     "data": {
      "text/plain": [
       "85.79"
      ]
     },
     "execution_count": 205,
     "metadata": {},
     "output_type": "execute_result"
    }
   ],
   "source": [
    "winkler_score(interval[0], test.reshape(-1, 1), alpha=0.2).round(2)"
   ]
  },
  {
   "cell_type": "code",
   "execution_count": null,
   "id": "13ef578c-bda6-46b1-97e9-b486a9c9b611",
   "metadata": {},
   "outputs": [],
   "source": []
  }
 ],
 "metadata": {
  "kernelspec": {
   "display_name": "Python 3 (ipykernel)",
   "language": "python",
   "name": "python3"
  },
  "language_info": {
   "codemirror_mode": {
    "name": "ipython",
    "version": 3
   },
   "file_extension": ".py",
   "mimetype": "text/x-python",
   "name": "python",
   "nbconvert_exporter": "python",
   "pygments_lexer": "ipython3",
   "version": "3.11.11"
  }
 },
 "nbformat": 4,
 "nbformat_minor": 5
}
