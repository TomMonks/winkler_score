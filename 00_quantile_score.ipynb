{
 "cells": [
  {
   "cell_type": "markdown",
   "id": "7b86c615-9548-48ca-8775-642b17a42404",
   "metadata": {},
   "source": [
    "## Quantile score"
   ]
  },
  {
   "cell_type": "code",
   "execution_count": 16,
   "id": "8e636c78-0451-46ce-8f26-02830864573d",
   "metadata": {},
   "outputs": [],
   "source": [
    "import numpy as np\n",
    "import pandas as pd\n",
    "\n",
    "from forecast_tools.baseline import Naive1\n",
    "\n",
    "from typing import Union"
   ]
  },
  {
   "cell_type": "code",
   "execution_count": 75,
   "id": "6f1b8559-c45d-4083-8762-065f95b7c24c",
   "metadata": {},
   "outputs": [],
   "source": [
    "def quantile_score(dist: Union[np.ndarray, list[float]],\n",
    "                   actual: float,\n",
    "                   probs: list[float] = [0.05, 0.25, 0.5, 0.75, 0.95],\n",
    "                   na_rm: bool = True) -> float:\n",
    "    \"\"\"\n",
    "    Calculate Quantile Score for probabilistic forecasts\n",
    "    \n",
    "    Parameters:\n",
    "    ----------\n",
    "    dist : array-like\n",
    "        forecast samples\n",
    "    actual : float\n",
    "        observed value\n",
    "    probs : list, optional (default = [0.05, 0.25, 0.5, 0.75, 0.95])\n",
    "        list of probabilities to evaluate\n",
    "    na_rm : bool, optional (default = True)\n",
    "        remove missing values\n",
    "    \n",
    "    Returns:\n",
    "    Quantile score (2 * mean loss across all quantiles)\n",
    "    \"\"\"\n",
    "    # Convert to numpy array and handle NA values\n",
    "    dist_array = np.asarray(dist)\n",
    "\n",
    "    print(dist_array)\n",
    "    \n",
    "    if na_rm:\n",
    "        dist_array = dist_array[~np.isnan(dist_array)]\n",
    "    \n",
    "    # Handle edge cases\n",
    "    if len(dist_array) == 0 or np.isnan(actual):\n",
    "        return np.nan\n",
    "    \n",
    "    # Calculate quantiles and scores\n",
    "\n",
    "    scores = []\n",
    "    for q, p in zip(percentiles, probs):\n",
    "        if actual < q:\n",
    "            loss = (1 - p) * abs(q - actual)\n",
    "        else:\n",
    "            loss = p * abs(q - actual)\n",
    "        scores.append(loss)\n",
    "    \n",
    "    return 2 * np.nanmean(scores) if na_rm else 2 * np.mean(scores)"
   ]
  },
  {
   "cell_type": "code",
   "execution_count": 42,
   "id": "46e8f0de-8fb4-493a-b681-9c710ec4bc2a",
   "metadata": {},
   "outputs": [
    {
     "data": {
      "text/html": [
       "<div>\n",
       "<style scoped>\n",
       "    .dataframe tbody tr th:only-of-type {\n",
       "        vertical-align: middle;\n",
       "    }\n",
       "\n",
       "    .dataframe tbody tr th {\n",
       "        vertical-align: top;\n",
       "    }\n",
       "\n",
       "    .dataframe thead th {\n",
       "        text-align: right;\n",
       "    }\n",
       "</style>\n",
       "<table border=\"1\" class=\"dataframe\">\n",
       "  <thead>\n",
       "    <tr style=\"text-align: right;\">\n",
       "      <th></th>\n",
       "      <th>Unnamed: 0</th>\n",
       "      <th>Symbol</th>\n",
       "      <th>Open</th>\n",
       "      <th>High</th>\n",
       "      <th>Low</th>\n",
       "      <th>Close</th>\n",
       "      <th>Adj_Close</th>\n",
       "      <th>Volume</th>\n",
       "      <th>day</th>\n",
       "    </tr>\n",
       "    <tr>\n",
       "      <th>Date</th>\n",
       "      <th></th>\n",
       "      <th></th>\n",
       "      <th></th>\n",
       "      <th></th>\n",
       "      <th></th>\n",
       "      <th></th>\n",
       "      <th></th>\n",
       "      <th></th>\n",
       "      <th></th>\n",
       "    </tr>\n",
       "  </thead>\n",
       "  <tbody>\n",
       "    <tr>\n",
       "      <th>2018-12-24</th>\n",
       "      <td>1002</td>\n",
       "      <td>GOOG</td>\n",
       "      <td>973.900024</td>\n",
       "      <td>1003.539978</td>\n",
       "      <td>970.109985</td>\n",
       "      <td>976.219971</td>\n",
       "      <td>976.219971</td>\n",
       "      <td>1590300</td>\n",
       "      <td>1002</td>\n",
       "    </tr>\n",
       "    <tr>\n",
       "      <th>2018-12-26</th>\n",
       "      <td>1003</td>\n",
       "      <td>GOOG</td>\n",
       "      <td>989.010010</td>\n",
       "      <td>1040.000000</td>\n",
       "      <td>983.000000</td>\n",
       "      <td>1039.459961</td>\n",
       "      <td>1039.459961</td>\n",
       "      <td>2373300</td>\n",
       "      <td>1003</td>\n",
       "    </tr>\n",
       "    <tr>\n",
       "      <th>2018-12-27</th>\n",
       "      <td>1004</td>\n",
       "      <td>GOOG</td>\n",
       "      <td>1017.150024</td>\n",
       "      <td>1043.890015</td>\n",
       "      <td>997.000000</td>\n",
       "      <td>1043.880005</td>\n",
       "      <td>1043.880005</td>\n",
       "      <td>2109800</td>\n",
       "      <td>1004</td>\n",
       "    </tr>\n",
       "    <tr>\n",
       "      <th>2018-12-28</th>\n",
       "      <td>1005</td>\n",
       "      <td>GOOG</td>\n",
       "      <td>1049.619995</td>\n",
       "      <td>1055.560059</td>\n",
       "      <td>1033.099976</td>\n",
       "      <td>1037.079956</td>\n",
       "      <td>1037.079956</td>\n",
       "      <td>1414800</td>\n",
       "      <td>1005</td>\n",
       "    </tr>\n",
       "    <tr>\n",
       "      <th>2018-12-31</th>\n",
       "      <td>1006</td>\n",
       "      <td>GOOG</td>\n",
       "      <td>1050.959961</td>\n",
       "      <td>1052.699951</td>\n",
       "      <td>1023.590027</td>\n",
       "      <td>1035.609985</td>\n",
       "      <td>1035.609985</td>\n",
       "      <td>1493300</td>\n",
       "      <td>1006</td>\n",
       "    </tr>\n",
       "  </tbody>\n",
       "</table>\n",
       "</div>"
      ],
      "text/plain": [
       "            Unnamed: 0 Symbol         Open         High          Low  \\\n",
       "Date                                                                   \n",
       "2018-12-24        1002   GOOG   973.900024  1003.539978   970.109985   \n",
       "2018-12-26        1003   GOOG   989.010010  1040.000000   983.000000   \n",
       "2018-12-27        1004   GOOG  1017.150024  1043.890015   997.000000   \n",
       "2018-12-28        1005   GOOG  1049.619995  1055.560059  1033.099976   \n",
       "2018-12-31        1006   GOOG  1050.959961  1052.699951  1023.590027   \n",
       "\n",
       "                  Close    Adj_Close   Volume   day  \n",
       "Date                                                 \n",
       "2018-12-24   976.219971   976.219971  1590300  1002  \n",
       "2018-12-26  1039.459961  1039.459961  2373300  1003  \n",
       "2018-12-27  1043.880005  1043.880005  2109800  1004  \n",
       "2018-12-28  1037.079956  1037.079956  1414800  1005  \n",
       "2018-12-31  1035.609985  1035.609985  1493300  1006  "
      ]
     },
     "execution_count": 42,
     "metadata": {},
     "output_type": "execute_result"
    }
   ],
   "source": [
    "google_stock = pd.read_csv(\"./data/google_stock.csv\", index_col=\"Date\", parse_dates=True)\n",
    "google_stock.tail()"
   ]
  },
  {
   "cell_type": "code",
   "execution_count": 52,
   "id": "081607af-83c8-4324-b79b-4c40ad52b9ec",
   "metadata": {},
   "outputs": [
    {
     "data": {
      "text/plain": [
       "Date\n",
       "2015-12-28    762.510010\n",
       "2015-12-29    776.599976\n",
       "2015-12-30    771.000000\n",
       "2015-12-31    758.880005\n",
       "2016-01-04    741.840027\n",
       "Name: Close, dtype: float64"
      ]
     },
     "execution_count": 52,
     "metadata": {},
     "output_type": "execute_result"
    }
   ],
   "source": [
    "train = google_stock[:\"2016-01-04\"][\"Close\"]\n",
    "train.tail()"
   ]
  },
  {
   "cell_type": "code",
   "execution_count": 56,
   "id": "cef5f3e1-6681-45fb-8578-c1d8fa3b46cc",
   "metadata": {},
   "outputs": [
    {
     "data": {
      "text/plain": [
       "np.float64(741.840027)"
      ]
     },
     "execution_count": 56,
     "metadata": {},
     "output_type": "execute_result"
    }
   ],
   "source": [
    "train = google_stock[:\"2015-12-31\"][\"Close\"].to_numpy()\n",
    "test = google_stock[:\"2016-01-04\"][\"Close\"].to_numpy()[-1]\n",
    "test"
   ]
  },
  {
   "cell_type": "code",
   "execution_count": 74,
   "id": "af078a21-5575-4c35-b8f4-11dbdb0e42d8",
   "metadata": {},
   "outputs": [
    {
     "data": {
      "text/plain": [
       "(array([758.880005]), [array([[744.53997703, 773.22003297]])])"
      ]
     },
     "execution_count": 74,
     "metadata": {},
     "output_type": "execute_result"
    }
   ],
   "source": [
    "nf1 = Naive1()\n",
    "nf1.fit(train)\n",
    "pred, interval = nf1.predict(horizon=1, return_predict_int=True, alpha=[0.2])\n",
    "pred, interval\n"
   ]
  },
  {
   "cell_type": "code",
   "execution_count": 77,
   "id": "95be801d-e398-4ecf-9267-16054e1dc692",
   "metadata": {},
   "outputs": [
    {
     "name": "stdout",
     "output_type": "stream",
     "text": [
      "[744.53997703 773.22003297]\n",
      "[747.40798262]\n"
     ]
    },
    {
     "data": {
      "text/plain": [
       "np.float64(10.02)"
      ]
     },
     "execution_count": 77,
     "metadata": {},
     "output_type": "execute_result"
    }
   ],
   "source": [
    "quantile_score(interval[0][0], test, probs=[0.1]).round(2)"
   ]
  },
  {
   "cell_type": "code",
   "execution_count": 79,
   "id": "c236a200-144e-4f23-b27d-68b76c885f50",
   "metadata": {},
   "outputs": [
    {
     "data": {
      "text/plain": [
       "np.float64(4.858151400000042)"
      ]
     },
     "execution_count": 79,
     "metadata": {},
     "output_type": "execute_result"
    }
   ],
   "source": [
    "loss = (1 - 0.1) * abs(744.539 - test)\n",
    "loss * 2"
   ]
  },
  {
   "cell_type": "code",
   "execution_count": 63,
   "id": "18bf0a42-bef2-4d47-875a-ee2c59f88a47",
   "metadata": {},
   "outputs": [],
   "source": [
    "from forecast_tools.metrics import winkler_score"
   ]
  },
  {
   "cell_type": "code",
   "execution_count": 65,
   "id": "c3e09075-fa56-41eb-8375-8dab9aea2f0d",
   "metadata": {},
   "outputs": [
    {
     "data": {
      "text/plain": [
       "np.float64(55.679556216310175)"
      ]
     },
     "execution_count": 65,
     "metadata": {},
     "output_type": "execute_result"
    }
   ],
   "source": [
    "winkler_score(interval[0], test, alpha=0.2)"
   ]
  },
  {
   "cell_type": "code",
   "execution_count": null,
   "id": "cbdd0b1d-e029-48ee-bd94-2651b65b5429",
   "metadata": {},
   "outputs": [],
   "source": []
  }
 ],
 "metadata": {
  "kernelspec": {
   "display_name": "Python 3 (ipykernel)",
   "language": "python",
   "name": "python3"
  },
  "language_info": {
   "codemirror_mode": {
    "name": "ipython",
    "version": 3
   },
   "file_extension": ".py",
   "mimetype": "text/x-python",
   "name": "python",
   "nbconvert_exporter": "python",
   "pygments_lexer": "ipython3",
   "version": "3.11.10"
  }
 },
 "nbformat": 4,
 "nbformat_minor": 5
}
